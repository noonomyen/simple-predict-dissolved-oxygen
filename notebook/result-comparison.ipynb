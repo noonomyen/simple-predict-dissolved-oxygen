{
 "cells": [
  {
   "cell_type": "markdown",
   "metadata": {},
   "source": [
    "# Machine Learning Algorithm Performance Comparison\n",
    "\n",
    "This notebook analyzes the performance of different machine learning algorithms based on metrics in CSV files."
   ]
  },
  {
   "cell_type": "code",
   "execution_count": 59,
   "metadata": {},
   "outputs": [],
   "source": [
    "# Import necessary libraries\n",
    "import pandas as pd\n",
    "import os\n",
    "from pathlib import Path\n"
   ]
  },
  {
   "cell_type": "code",
   "execution_count": 60,
   "metadata": {},
   "outputs": [
    {
     "name": "stdout",
     "output_type": "stream",
     "text": [
      "[PosixPath('../output/mlr/results.csv'), PosixPath('../output/gru/results.csv'), PosixPath('../output/lstm/results.csv'), PosixPath('../output/mpr/results.csv')]\n"
     ]
    }
   ],
   "source": [
    "csv_files = []\n",
    "output_dir = Path(\"../output\")\n",
    "\n",
    "for file in output_dir.rglob(\"*.csv\"):\n",
    "    if file.name.startswith(\"results\"):\n",
    "        csv_files.append(file)\n",
    "\n",
    "print(csv_files)"
   ]
  },
  {
   "cell_type": "code",
   "execution_count": 61,
   "metadata": {},
   "outputs": [],
   "source": [
    "def extract_algorithm_name(file_path):\n",
    "    \"\"\"Extracts algorithm name from folder structure (e.g., ../output/gru/results.csv -> gru)\"\"\"\n",
    "    return os.path.basename(os.path.dirname(file_path))\n"
   ]
  },
  {
   "cell_type": "code",
   "execution_count": 62,
   "metadata": {},
   "outputs": [
    {
     "name": "stdout",
     "output_type": "stream",
     "text": [
      "Loaded ../output/mlr/results.csv for algorithm 'mlr' with 19 stations\n",
      "Loaded ../output/gru/results.csv for algorithm 'gru' with 19 stations\n",
      "Loaded ../output/lstm/results.csv for algorithm 'lstm' with 19 stations\n",
      "Loaded ../output/mpr/results.csv for algorithm 'mpr' with 19 stations\n"
     ]
    }
   ],
   "source": [
    "algorithm_data = {}\n",
    "\n",
    "for file in csv_files:\n",
    "    algorithm_name = extract_algorithm_name(file)\n",
    "\n",
    "    if algorithm_name:\n",
    "        df = pd.read_csv(file)\n",
    "        algorithm_data[algorithm_name] = df\n",
    "        print(f\"Loaded {file} for algorithm '{algorithm_name}' with {len(df)} stations\")"
   ]
  },
  {
   "cell_type": "code",
   "execution_count": 63,
   "metadata": {},
   "outputs": [
    {
     "name": "stdout",
     "output_type": "stream",
     "text": [
      "mlr\n",
      "gru\n",
      "lstm\n",
      "mpr\n"
     ]
    },
    {
     "data": {
      "text/html": [
       "<div>\n",
       "<style scoped>\n",
       "    .dataframe tbody tr th:only-of-type {\n",
       "        vertical-align: middle;\n",
       "    }\n",
       "\n",
       "    .dataframe tbody tr th {\n",
       "        vertical-align: top;\n",
       "    }\n",
       "\n",
       "    .dataframe thead th {\n",
       "        text-align: right;\n",
       "    }\n",
       "</style>\n",
       "<table border=\"1\" class=\"dataframe\">\n",
       "  <thead>\n",
       "    <tr style=\"text-align: right;\">\n",
       "      <th></th>\n",
       "      <th>algorithm</th>\n",
       "      <th>avg_mae</th>\n",
       "      <th>avg_mse</th>\n",
       "      <th>avg_rmse</th>\n",
       "      <th>avg_r2</th>\n",
       "    </tr>\n",
       "  </thead>\n",
       "  <tbody>\n",
       "    <tr>\n",
       "      <th>0</th>\n",
       "      <td>mlr</td>\n",
       "      <td>0.479654</td>\n",
       "      <td>0.560587</td>\n",
       "      <td>0.622177</td>\n",
       "      <td>0.356808</td>\n",
       "    </tr>\n",
       "    <tr>\n",
       "      <th>1</th>\n",
       "      <td>gru</td>\n",
       "      <td>0.419946</td>\n",
       "      <td>0.396521</td>\n",
       "      <td>0.559296</td>\n",
       "      <td>0.319940</td>\n",
       "    </tr>\n",
       "    <tr>\n",
       "      <th>2</th>\n",
       "      <td>lstm</td>\n",
       "      <td>0.414779</td>\n",
       "      <td>0.385020</td>\n",
       "      <td>0.545646</td>\n",
       "      <td>0.391826</td>\n",
       "    </tr>\n",
       "    <tr>\n",
       "      <th>3</th>\n",
       "      <td>mpr</td>\n",
       "      <td>0.321654</td>\n",
       "      <td>0.291103</td>\n",
       "      <td>0.450385</td>\n",
       "      <td>0.635857</td>\n",
       "    </tr>\n",
       "  </tbody>\n",
       "</table>\n",
       "</div>"
      ],
      "text/plain": [
       "  algorithm   avg_mae   avg_mse  avg_rmse    avg_r2\n",
       "0       mlr  0.479654  0.560587  0.622177  0.356808\n",
       "1       gru  0.419946  0.396521  0.559296  0.319940\n",
       "2      lstm  0.414779  0.385020  0.545646  0.391826\n",
       "3       mpr  0.321654  0.291103  0.450385  0.635857"
      ]
     },
     "execution_count": 63,
     "metadata": {},
     "output_type": "execute_result"
    }
   ],
   "source": [
    "algorithm_metrics = []\n",
    "\n",
    "for algorithm, df in algorithm_data.items():\n",
    "\n",
    "    print(algorithm)\n",
    "\n",
    "    metrics_columns = ['mae', 'mse', 'rmse', 'r2']\n",
    "    metrics = df[metrics_columns].mean()\n",
    "\n",
    "    algorithm_metrics.append({\n",
    "        'algorithm': algorithm,\n",
    "        'avg_mae': metrics['mae'],\n",
    "        'avg_mse': metrics['mse'],\n",
    "        'avg_rmse': metrics['rmse'],\n",
    "        'avg_r2': metrics['r2']\n",
    "    })\n",
    "\n",
    "metrics_df = pd.DataFrame(algorithm_metrics)\n",
    "metrics_df"
   ]
  },
  {
   "cell_type": "code",
   "execution_count": 64,
   "metadata": {},
   "outputs": [
    {
     "data": {
      "text/html": [
       "<div>\n",
       "<style scoped>\n",
       "    .dataframe tbody tr th:only-of-type {\n",
       "        vertical-align: middle;\n",
       "    }\n",
       "\n",
       "    .dataframe tbody tr th {\n",
       "        vertical-align: top;\n",
       "    }\n",
       "\n",
       "    .dataframe thead th {\n",
       "        text-align: right;\n",
       "    }\n",
       "</style>\n",
       "<table border=\"1\" class=\"dataframe\">\n",
       "  <thead>\n",
       "    <tr style=\"text-align: right;\">\n",
       "      <th></th>\n",
       "      <th>algorithm</th>\n",
       "      <th>avg_mae</th>\n",
       "      <th>avg_mse</th>\n",
       "      <th>avg_rmse</th>\n",
       "      <th>avg_r2</th>\n",
       "      <th>rank_mae</th>\n",
       "      <th>rank_mse</th>\n",
       "      <th>rank_rmse</th>\n",
       "      <th>rank_r2</th>\n",
       "      <th>overall_rank</th>\n",
       "    </tr>\n",
       "  </thead>\n",
       "  <tbody>\n",
       "    <tr>\n",
       "      <th>3</th>\n",
       "      <td>mpr</td>\n",
       "      <td>0.321654</td>\n",
       "      <td>0.291103</td>\n",
       "      <td>0.450385</td>\n",
       "      <td>0.635857</td>\n",
       "      <td>1.0</td>\n",
       "      <td>1.0</td>\n",
       "      <td>1.0</td>\n",
       "      <td>1.0</td>\n",
       "      <td>1.00</td>\n",
       "    </tr>\n",
       "    <tr>\n",
       "      <th>2</th>\n",
       "      <td>lstm</td>\n",
       "      <td>0.414779</td>\n",
       "      <td>0.385020</td>\n",
       "      <td>0.545646</td>\n",
       "      <td>0.391826</td>\n",
       "      <td>2.0</td>\n",
       "      <td>2.0</td>\n",
       "      <td>2.0</td>\n",
       "      <td>2.0</td>\n",
       "      <td>2.00</td>\n",
       "    </tr>\n",
       "    <tr>\n",
       "      <th>1</th>\n",
       "      <td>gru</td>\n",
       "      <td>0.419946</td>\n",
       "      <td>0.396521</td>\n",
       "      <td>0.559296</td>\n",
       "      <td>0.319940</td>\n",
       "      <td>3.0</td>\n",
       "      <td>3.0</td>\n",
       "      <td>3.0</td>\n",
       "      <td>4.0</td>\n",
       "      <td>3.25</td>\n",
       "    </tr>\n",
       "    <tr>\n",
       "      <th>0</th>\n",
       "      <td>mlr</td>\n",
       "      <td>0.479654</td>\n",
       "      <td>0.560587</td>\n",
       "      <td>0.622177</td>\n",
       "      <td>0.356808</td>\n",
       "      <td>4.0</td>\n",
       "      <td>4.0</td>\n",
       "      <td>4.0</td>\n",
       "      <td>3.0</td>\n",
       "      <td>3.75</td>\n",
       "    </tr>\n",
       "  </tbody>\n",
       "</table>\n",
       "</div>"
      ],
      "text/plain": [
       "  algorithm   avg_mae   avg_mse  avg_rmse    avg_r2  rank_mae  rank_mse  \\\n",
       "3       mpr  0.321654  0.291103  0.450385  0.635857       1.0       1.0   \n",
       "2      lstm  0.414779  0.385020  0.545646  0.391826       2.0       2.0   \n",
       "1       gru  0.419946  0.396521  0.559296  0.319940       3.0       3.0   \n",
       "0       mlr  0.479654  0.560587  0.622177  0.356808       4.0       4.0   \n",
       "\n",
       "   rank_rmse  rank_r2  overall_rank  \n",
       "3        1.0      1.0          1.00  \n",
       "2        2.0      2.0          2.00  \n",
       "1        3.0      4.0          3.25  \n",
       "0        4.0      3.0          3.75  "
      ]
     },
     "execution_count": 64,
     "metadata": {},
     "output_type": "execute_result"
    }
   ],
   "source": [
    "ranked_df = metrics_df.copy()\n",
    "\n",
    "ranked_df['rank_mae'] = ranked_df['avg_mae'].rank()\n",
    "ranked_df['rank_mse'] = ranked_df['avg_mse'].rank()\n",
    "ranked_df['rank_rmse'] = ranked_df['avg_rmse'].rank()\n",
    "ranked_df['rank_r2'] = ranked_df['avg_r2'].rank(ascending=False)\n",
    "\n",
    "ranked_df['overall_rank'] = ranked_df[['rank_mae', 'rank_mse', 'rank_rmse', 'rank_r2']].mean(axis=1)\n",
    "\n",
    "ranked_df = ranked_df.sort_values('overall_rank')\n",
    "\n",
    "ranked_df"
   ]
  },
  {
   "cell_type": "code",
   "execution_count": 65,
   "metadata": {},
   "outputs": [
    {
     "name": "stdout",
     "output_type": "stream",
     "text": [
      "Algorithm Performance Summary (Best to Worst):\n"
     ]
    },
    {
     "data": {
      "text/html": [
       "<div>\n",
       "<style scoped>\n",
       "    .dataframe tbody tr th:only-of-type {\n",
       "        vertical-align: middle;\n",
       "    }\n",
       "\n",
       "    .dataframe tbody tr th {\n",
       "        vertical-align: top;\n",
       "    }\n",
       "\n",
       "    .dataframe thead th {\n",
       "        text-align: right;\n",
       "    }\n",
       "</style>\n",
       "<table border=\"1\" class=\"dataframe\">\n",
       "  <thead>\n",
       "    <tr style=\"text-align: right;\">\n",
       "      <th></th>\n",
       "      <th>algorithm</th>\n",
       "      <th>avg_mae</th>\n",
       "      <th>avg_mse</th>\n",
       "      <th>avg_rmse</th>\n",
       "      <th>avg_r2</th>\n",
       "      <th>overall_rank</th>\n",
       "    </tr>\n",
       "  </thead>\n",
       "  <tbody>\n",
       "    <tr>\n",
       "      <th>0</th>\n",
       "      <td>mpr</td>\n",
       "      <td>0.3217</td>\n",
       "      <td>0.2911</td>\n",
       "      <td>0.4504</td>\n",
       "      <td>0.6359</td>\n",
       "      <td>1.00</td>\n",
       "    </tr>\n",
       "    <tr>\n",
       "      <th>1</th>\n",
       "      <td>lstm</td>\n",
       "      <td>0.4148</td>\n",
       "      <td>0.3850</td>\n",
       "      <td>0.5456</td>\n",
       "      <td>0.3918</td>\n",
       "      <td>2.00</td>\n",
       "    </tr>\n",
       "    <tr>\n",
       "      <th>2</th>\n",
       "      <td>gru</td>\n",
       "      <td>0.4199</td>\n",
       "      <td>0.3965</td>\n",
       "      <td>0.5593</td>\n",
       "      <td>0.3199</td>\n",
       "      <td>3.25</td>\n",
       "    </tr>\n",
       "    <tr>\n",
       "      <th>3</th>\n",
       "      <td>mlr</td>\n",
       "      <td>0.4797</td>\n",
       "      <td>0.5606</td>\n",
       "      <td>0.6222</td>\n",
       "      <td>0.3568</td>\n",
       "      <td>3.75</td>\n",
       "    </tr>\n",
       "  </tbody>\n",
       "</table>\n",
       "</div>"
      ],
      "text/plain": [
       "  algorithm  avg_mae  avg_mse  avg_rmse  avg_r2  overall_rank\n",
       "0       mpr   0.3217   0.2911    0.4504  0.6359          1.00\n",
       "1      lstm   0.4148   0.3850    0.5456  0.3918          2.00\n",
       "2       gru   0.4199   0.3965    0.5593  0.3199          3.25\n",
       "3       mlr   0.4797   0.5606    0.6222  0.3568          3.75"
      ]
     },
     "execution_count": 65,
     "metadata": {},
     "output_type": "execute_result"
    }
   ],
   "source": [
    "summary_df = ranked_df[['algorithm', 'avg_mae', 'avg_mse', 'avg_rmse', 'avg_r2', 'overall_rank']].copy()\n",
    "summary_df = summary_df.sort_values('overall_rank')\n",
    "\n",
    "summary_df['avg_mae'] = summary_df['avg_mae'].round(4)\n",
    "summary_df['avg_mse'] = summary_df['avg_mse'].round(4)\n",
    "summary_df['avg_rmse'] = summary_df['avg_rmse'].round(4)\n",
    "summary_df['avg_r2'] = summary_df['avg_r2'].round(4)\n",
    "summary_df['overall_rank'] = summary_df['overall_rank'].round(2)\n",
    "\n",
    "summary_df = summary_df.reset_index(drop=True)\n",
    "\n",
    "print(\"Algorithm Performance Summary (Best to Worst):\")\n",
    "summary_df"
   ]
  },
  {
   "cell_type": "code",
   "execution_count": 66,
   "metadata": {},
   "outputs": [
    {
     "name": "stdout",
     "output_type": "stream",
     "text": [
      "successful to save summary\n"
     ]
    }
   ],
   "source": [
    "summary_df.to_csv(\"../output/data/result-comparison.csv\")\n",
    "print(\"successful to save summary\")"
   ]
  }
 ],
 "metadata": {
  "kernelspec": {
   "display_name": ".venv",
   "language": "python",
   "name": "python3"
  },
  "language_info": {
   "codemirror_mode": {
    "name": "ipython",
    "version": 3
   },
   "file_extension": ".py",
   "mimetype": "text/x-python",
   "name": "python",
   "nbconvert_exporter": "python",
   "pygments_lexer": "ipython3",
   "version": "3.12.7"
  }
 },
 "nbformat": 4,
 "nbformat_minor": 4
}
